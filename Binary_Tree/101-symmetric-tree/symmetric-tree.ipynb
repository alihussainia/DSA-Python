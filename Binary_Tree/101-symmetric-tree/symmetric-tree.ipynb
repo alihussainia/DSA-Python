{
 "cells": [
  {
   "cell_type": "markdown",
   "id": "fb5bd2b7-38de-4dc8-9f6c-24a063979127",
   "metadata": {},
   "source": [
    "# Understanding Symmetric Tree (LC-101)"
   ]
  },
  {
   "cell_type": "markdown",
   "id": "432a6037-f871-4c11-82f2-46e27ce54f3b",
   "metadata": {
    "tags": []
   },
   "source": [
    "### By Graphics"
   ]
  },
  {
   "cell_type": "markdown",
   "id": "65736edb-14a3-45ff-9373-f4dd6bd4cd0c",
   "metadata": {},
   "source": [
    "![title](img/symmetric-tree-graphic.png)"
   ]
  },
  {
   "cell_type": "markdown",
   "id": "aeb52394-935c-4b80-a693-2bc4e170135f",
   "metadata": {},
   "source": [
    "### By Graph"
   ]
  },
  {
   "cell_type": "markdown",
   "id": "5909cdbf-bf38-4ec8-b46e-1c7cdbefb954",
   "metadata": {},
   "source": [
    "![title](img/symmetric-tree-graph.png)"
   ]
  },
  {
   "cell_type": "markdown",
   "id": "fc298909-5b7d-465d-8028-26b85a1fc388",
   "metadata": {},
   "source": [
    "### By Code"
   ]
  },
  {
   "cell_type": "code",
   "execution_count": null,
   "id": "6b8b4ca5-ce93-4828-9d47-db10209b865c",
   "metadata": {},
   "outputs": [],
   "source": [
    "# Definition for a binary tree node.\n",
    "# class TreeNode:\n",
    "#     def __init__(self, val=0, left=None, right=None):\n",
    "#         self.val = val\n",
    "#         self.left = left\n",
    "#         self.right = right\n",
    "class Solution:\n",
    "    def isSymmetric(self, root: Optional[TreeNode]) -> bool:\n",
    "        \n",
    "        # let's make two trees\n",
    "        left_tree=root\n",
    "        right_tree=root\n",
    "\n",
    "        def isMirror(left_tree, right_tree):\n",
    "            # Check whether both are None, is yes, return True\n",
    "            if left_tree == None and right_tree == None: \n",
    "                return True\n",
    "\n",
    "            # Check whether left_tree value is not None but right_tree value is None, is yes, return False\n",
    "            elif left_tree != None and right_tree == None:\n",
    "                return False\n",
    "\n",
    "            # Check whether left_tree value is None but right_tree value is not None, is yes, return False\n",
    "            elif left_tree == None and right_tree != None:\n",
    "                return False\n",
    "            \n",
    "            # if both are not None but not equal as well, return False\n",
    "            elif (left_tree!=None and right_tree!=None) and (left_tree.val!=right_tree.val):\n",
    "                return False\n",
    "            \n",
    "            # first check whether both left and right tree values are not None \n",
    "            # and then check whether they are both equal, \n",
    "            # if yes move to next line i.e. return. \n",
    "            # Now follow the key rules that are mentioned in the image above\n",
    "\n",
    "            elif (left_tree!=None and right_tree!=None) and (left_tree.val==right_tree.val):  \n",
    "                return (isMirror(left_tree.left, right_tree.right) and isMirror(left_tree.right, right_tree.left))\n",
    "        \n",
    "        # returns the bool i.e. with either true or false \n",
    "        return isMirror(left_tree, right_tree)"
   ]
  }
 ],
 "metadata": {
  "kernelspec": {
   "display_name": "Python 3",
   "language": "python",
   "name": "python3"
  },
  "language_info": {
   "codemirror_mode": {
    "name": "ipython",
    "version": 3
   },
   "file_extension": ".py",
   "mimetype": "text/x-python",
   "name": "python",
   "nbconvert_exporter": "python",
   "pygments_lexer": "ipython3",
   "version": "3.7.10"
  }
 },
 "nbformat": 4,
 "nbformat_minor": 5
}
