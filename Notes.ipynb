{
  "nbformat": 4,
  "nbformat_minor": 0,
  "metadata": {
    "colab": {
      "provenance": [],
      "authorship_tag": "ABX9TyNdW2OV2b+KEE97FWeGoRRp",
      "include_colab_link": true
    },
    "kernelspec": {
      "name": "python3",
      "display_name": "Python 3"
    },
    "language_info": {
      "name": "python"
    }
  },
  "cells": [
    {
      "cell_type": "markdown",
      "metadata": {
        "id": "view-in-github",
        "colab_type": "text"
      },
      "source": [
        "<a href=\"https://colab.research.google.com/github/alihussainia/LeetCode-Python/blob/master/Notes.ipynb\" target=\"_parent\"><img src=\"https://colab.research.google.com/assets/colab-badge.svg\" alt=\"Open In Colab\"/></a>"
      ]
    },
    {
      "cell_type": "markdown",
      "source": [
        "BigO Notation:\n",
        "\n",
        "1) Constant: O(1)\n",
        "a + b\n",
        "\n",
        "Now, value of a and b are irrelevant. \n",
        "\n",
        "2) Linear:\n",
        "Multiple Loops\n",
        "\n",
        "3) Log"
      ],
      "metadata": {
        "id": "GyASz0jxQOk6"
      }
    },
    {
      "cell_type": "markdown",
      "source": [
        "# Stack: Last in - First Out"
      ],
      "metadata": {
        "id": "dkfmyIAUJCr-"
      }
    },
    {
      "cell_type": "markdown",
      "source": [
        "1) Do the Coding.\n",
        "\n",
        "2) Explain the Coding."
      ],
      "metadata": {
        "id": "qFfD4fGEJivT"
      }
    },
    {
      "cell_type": "markdown",
      "source": [
        "- Push: To attach something. (from the very last)\n",
        "- Pop: To remove somthing. (from the very last)\n",
        "- Top: The very last element from right."
      ],
      "metadata": {
        "id": "briBGTfvKKGO"
      }
    },
    {
      "cell_type": "code",
      "execution_count": 17,
      "metadata": {
        "id": "Z23Vrf2LHLe3"
      },
      "outputs": [],
      "source": [
        "class Stack:\n",
        "  # initializing empty list as stack\n",
        "  def __init__(self, emptyArray=[]):\n",
        "    self.Stack = emptyArray\n",
        "  \n",
        "  # defining push function to attach values from right\n",
        "  def push(self, elem):\n",
        "    self.Stack.append(elem)\n",
        "    return self.Stack\n",
        "\n",
        "  # defining pop function to detach values from right\n",
        "  def pop(self):\n",
        "    return self.Stack.pop(-1)\n",
        "\n",
        "  # checking current status of stack\n",
        "  def checkStack(self):\n",
        "    print(self.Stack)\n",
        "  \n",
        "  # checking the last value added to the stack \n",
        "  def checkTop(self):\n",
        "    print(self.Stack[-1])"
      ]
    },
    {
      "cell_type": "code",
      "source": [],
      "metadata": {
        "id": "fOH-3XzrQA8H"
      },
      "execution_count": null,
      "outputs": []
    },
    {
      "cell_type": "code",
      "source": [
        "# mystack is an object of class Stack\n",
        "mystack = Stack()"
      ],
      "metadata": {
        "id": "H0JIOiyoLs8W"
      },
      "execution_count": 21,
      "outputs": []
    },
    {
      "cell_type": "code",
      "source": [
        "# to push to mystack\n",
        "mystack.push(1)\n",
        "mystack.push(2)\n",
        "mystack.push(3)"
      ],
      "metadata": {
        "colab": {
          "base_uri": "https://localhost:8080/"
        },
        "id": "EcSY3s34Lyx1",
        "outputId": "a8095e78-177b-49bf-8f31-a4670494aecb"
      },
      "execution_count": 23,
      "outputs": [
        {
          "output_type": "execute_result",
          "data": {
            "text/plain": [
              "[1, 2, 3]"
            ]
          },
          "metadata": {},
          "execution_count": 23
        }
      ]
    },
    {
      "cell_type": "code",
      "source": [
        "# to pop from mystack\n",
        "mystack.pop()"
      ],
      "metadata": {
        "colab": {
          "base_uri": "https://localhost:8080/"
        },
        "id": "sauvSJZyMmQf",
        "outputId": "8d0b70f2-9146-4193-d4c6-ccfb6d7377c2"
      },
      "execution_count": 24,
      "outputs": [
        {
          "output_type": "execute_result",
          "data": {
            "text/plain": [
              "3"
            ]
          },
          "metadata": {},
          "execution_count": 24
        }
      ]
    },
    {
      "cell_type": "code",
      "source": [
        "# to check Stack now\n",
        "mystack.checkStack()"
      ],
      "metadata": {
        "colab": {
          "base_uri": "https://localhost:8080/"
        },
        "id": "O_4VOJP4M8uW",
        "outputId": "2df597e3-dc0c-40ac-c561-16a569b313ae"
      },
      "execution_count": 25,
      "outputs": [
        {
          "output_type": "stream",
          "name": "stdout",
          "text": [
            "[1, 2]\n"
          ]
        }
      ]
    },
    {
      "cell_type": "code",
      "source": [
        "# to check Top of the Stack\n",
        "mystack.checkTop()"
      ],
      "metadata": {
        "colab": {
          "base_uri": "https://localhost:8080/"
        },
        "id": "tJAI0R0fNaYO",
        "outputId": "2f547f38-f323-4f79-fe25-d865a17cf7b8"
      },
      "execution_count": 26,
      "outputs": [
        {
          "output_type": "stream",
          "name": "stdout",
          "text": [
            "2\n"
          ]
        }
      ]
    },
    {
      "cell_type": "markdown",
      "source": [
        "# Queue: First in - First Out"
      ],
      "metadata": {
        "id": "9Cb5PS23OxWJ"
      }
    },
    {
      "cell_type": "code",
      "source": [
        "class Queue:\n",
        "\n",
        "  def __init__(self, emptyArray=[]):\n",
        "    self.Queue = emptyArray\n",
        "\n",
        "  def enqueue(self, elem):\n",
        "    self.Queue.append(elem)\n",
        "    return self.Queue\n",
        "\n",
        "  def dequeue(self):\n",
        "    return self.Queue.pop(0)\n",
        "\n",
        "  def checkQueue(self):\n",
        "    print(self.Queue)\n",
        "  \n",
        "  def checkHead(self):\n",
        "    print(self.Queue[0])\n",
        "\n",
        "  def checkTail(self):\n",
        "    print(self.Queue[-1])\n"
      ],
      "metadata": {
        "id": "CsIgN-viNqU2"
      },
      "execution_count": 31,
      "outputs": []
    },
    {
      "cell_type": "code",
      "source": [
        "myqueue = Queue()"
      ],
      "metadata": {
        "id": "scYA6G8KSC9_"
      },
      "execution_count": 32,
      "outputs": []
    },
    {
      "cell_type": "code",
      "source": [
        "myqueue.enqueue(1)\n",
        "myqueue.enqueue(2)\n",
        "myqueue.enqueue(3)"
      ],
      "metadata": {
        "colab": {
          "base_uri": "https://localhost:8080/"
        },
        "id": "WJb-60lRSRtG",
        "outputId": "ad954e74-3636-4bdc-af2d-92201e158e91"
      },
      "execution_count": 33,
      "outputs": [
        {
          "output_type": "execute_result",
          "data": {
            "text/plain": [
              "[1, 2, 3]"
            ]
          },
          "metadata": {},
          "execution_count": 33
        }
      ]
    },
    {
      "cell_type": "code",
      "source": [
        "myqueue.dequeue()"
      ],
      "metadata": {
        "colab": {
          "base_uri": "https://localhost:8080/"
        },
        "id": "QLzpepLZSWvQ",
        "outputId": "c0b6d1d7-ee65-442e-b94e-810f5318928f"
      },
      "execution_count": 34,
      "outputs": [
        {
          "output_type": "execute_result",
          "data": {
            "text/plain": [
              "1"
            ]
          },
          "metadata": {},
          "execution_count": 34
        }
      ]
    },
    {
      "cell_type": "code",
      "source": [
        "myqueue.checkQueue()"
      ],
      "metadata": {
        "colab": {
          "base_uri": "https://localhost:8080/"
        },
        "id": "t-b2lE8tSc7e",
        "outputId": "672249a1-4c1c-43ba-ab9a-4fcbb00c3e46"
      },
      "execution_count": 35,
      "outputs": [
        {
          "output_type": "stream",
          "name": "stdout",
          "text": [
            "[2, 3]\n"
          ]
        }
      ]
    },
    {
      "cell_type": "code",
      "source": [
        "myqueue.checkHead()"
      ],
      "metadata": {
        "colab": {
          "base_uri": "https://localhost:8080/"
        },
        "id": "_0uLaHiFSrhe",
        "outputId": "29df01a3-c43f-4ba2-80f5-6fd632ceb94f"
      },
      "execution_count": 36,
      "outputs": [
        {
          "output_type": "stream",
          "name": "stdout",
          "text": [
            "2\n"
          ]
        }
      ]
    },
    {
      "cell_type": "code",
      "source": [
        "myqueue.checkTail()"
      ],
      "metadata": {
        "colab": {
          "base_uri": "https://localhost:8080/"
        },
        "id": "hSHya95YSthm",
        "outputId": "8995744a-1462-47f7-f3ff-443a3cf99043"
      },
      "execution_count": 37,
      "outputs": [
        {
          "output_type": "stream",
          "name": "stdout",
          "text": [
            "3\n"
          ]
        }
      ]
    },
    {
      "cell_type": "markdown",
      "source": [
        "# Deque: Double-Ended Queue"
      ],
      "metadata": {
        "id": "lfyqHqpsS0nJ"
      }
    },
    {
      "cell_type": "code",
      "source": [
        "from collections import deque # pronunciation: deck"
      ],
      "metadata": {
        "id": "Xydtl1K9Swiu"
      },
      "execution_count": 38,
      "outputs": []
    },
    {
      "cell_type": "code",
      "source": [
        "# initiaiting deque object\n",
        "doubleQ = deque([]) "
      ],
      "metadata": {
        "id": "Y-udyEfoUodf"
      },
      "execution_count": 60,
      "outputs": []
    },
    {
      "cell_type": "code",
      "source": [
        "doubleQ.append(4)\n",
        "doubleQ.append(5)\n",
        "doubleQ.append(6)"
      ],
      "metadata": {
        "id": "lWduD2IjU-J_"
      },
      "execution_count": 61,
      "outputs": []
    },
    {
      "cell_type": "code",
      "source": [
        "doubleQ"
      ],
      "metadata": {
        "colab": {
          "base_uri": "https://localhost:8080/"
        },
        "id": "1VIxMdpvVF5-",
        "outputId": "82f171de-39d9-47ed-b957-0e793c682a2b"
      },
      "execution_count": 62,
      "outputs": [
        {
          "output_type": "execute_result",
          "data": {
            "text/plain": [
              "deque([4, 5, 6])"
            ]
          },
          "metadata": {},
          "execution_count": 62
        }
      ]
    },
    {
      "cell_type": "code",
      "source": [
        "doubleQ.pop() # pop normal python i.e. pop(-1)"
      ],
      "metadata": {
        "colab": {
          "base_uri": "https://localhost:8080/"
        },
        "id": "QeE6aI5RVGtX",
        "outputId": "9c0af176-0b22-44dd-8518-5d595545316e"
      },
      "execution_count": 63,
      "outputs": [
        {
          "output_type": "execute_result",
          "data": {
            "text/plain": [
              "6"
            ]
          },
          "metadata": {},
          "execution_count": 63
        }
      ]
    },
    {
      "cell_type": "code",
      "source": [
        "doubleQ.popleft()"
      ],
      "metadata": {
        "colab": {
          "base_uri": "https://localhost:8080/"
        },
        "id": "hj9z8pz9W835",
        "outputId": "39231714-cb86-4bf4-d10c-1923ee7d2fbc"
      },
      "execution_count": 64,
      "outputs": [
        {
          "output_type": "execute_result",
          "data": {
            "text/plain": [
              "4"
            ]
          },
          "metadata": {},
          "execution_count": 64
        }
      ]
    },
    {
      "cell_type": "code",
      "source": [
        "doubleQ"
      ],
      "metadata": {
        "colab": {
          "base_uri": "https://localhost:8080/"
        },
        "id": "-NX9M7KqVJc-",
        "outputId": "23cdbbc2-218c-4197-d36c-f58e433307ed"
      },
      "execution_count": 43,
      "outputs": [
        {
          "output_type": "execute_result",
          "data": {
            "text/plain": [
              "deque([])"
            ]
          },
          "metadata": {},
          "execution_count": 43
        }
      ]
    },
    {
      "cell_type": "code",
      "source": [
        "doubleQ.appendleft(3)\n",
        "doubleQ.appendleft(2)\n",
        "doubleQ.appendleft(1)"
      ],
      "metadata": {
        "id": "bwckklmkVK--"
      },
      "execution_count": 49,
      "outputs": []
    },
    {
      "cell_type": "code",
      "source": [
        "doubleQ"
      ],
      "metadata": {
        "colab": {
          "base_uri": "https://localhost:8080/"
        },
        "id": "PR6_exx0VV6G",
        "outputId": "58d2dfdd-1fc0-42bf-a902-ea141f77d56a"
      },
      "execution_count": 50,
      "outputs": [
        {
          "output_type": "execute_result",
          "data": {
            "text/plain": [
              "deque([1, 2, 3])"
            ]
          },
          "metadata": {},
          "execution_count": 50
        }
      ]
    },
    {
      "cell_type": "code",
      "source": [
        "doubleQ.appendleft(4)"
      ],
      "metadata": {
        "id": "KE7f1tTbVWYe"
      },
      "execution_count": 53,
      "outputs": []
    },
    {
      "cell_type": "code",
      "source": [
        "doubleQ"
      ],
      "metadata": {
        "colab": {
          "base_uri": "https://localhost:8080/"
        },
        "id": "25LqIjykVk63",
        "outputId": "860f46d3-8873-423b-a016-4d316f33d351"
      },
      "execution_count": 54,
      "outputs": [
        {
          "output_type": "execute_result",
          "data": {
            "text/plain": [
              "deque([4, 1, 2, 3])"
            ]
          },
          "metadata": {},
          "execution_count": 54
        }
      ]
    },
    {
      "cell_type": "code",
      "source": [
        "doubleQ.append(5)"
      ],
      "metadata": {
        "id": "1Un_TjoTVmgG"
      },
      "execution_count": 55,
      "outputs": []
    },
    {
      "cell_type": "code",
      "source": [
        "doubleQ"
      ],
      "metadata": {
        "colab": {
          "base_uri": "https://localhost:8080/"
        },
        "id": "fL3OohjmWdfw",
        "outputId": "d0cce9d7-90bd-4f74-c7a0-3dd8bbbc0d17"
      },
      "execution_count": 56,
      "outputs": [
        {
          "output_type": "execute_result",
          "data": {
            "text/plain": [
              "deque([4, 1, 2, 3, 5])"
            ]
          },
          "metadata": {},
          "execution_count": 56
        }
      ]
    }
  ]
}